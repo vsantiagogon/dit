{
 "cells": [
  {
   "cell_type": "markdown",
   "metadata": {},
   "source": [
    "## Task 1: Investigate the impact of class imbalance on performance measures\n",
    "\n",
    "Build a classifier that predicts the categories 'talk.religion.misc' and 'soc.religion.christian' from the 20-newsgroups dataset.  \n",
    "Test it first on the training set.\n",
    "Test it also on the test set.  \n",
    "\n",
    "Add a markdown cell and include your observations on the following:\n",
    "* the class distribution of the training set  (evident from the classification report of testing on the training set -  support = the number of instances of each class)\n",
    "* the performance on the training set versus the performance on the test set and what does any difference here mean\n",
    "* which performance measure should be used.\n",
    "\n",
    "Note that a Jupyter notebooks Markdown Cheatsheet is available at https://medium.com/ibm-data-science-experience/markdown-for-jupyter-notebooks-cheatsheet-386c05aeebed"
   ]
  },
  {
   "cell_type": "code",
   "execution_count": 2,
   "metadata": {
    "collapsed": true
   },
   "outputs": [],
   "source": [
    "from sklearn.datasets import fetch_20newsgroups\n",
    "from sklearn.feature_extraction.text import TfidfVectorizer\n",
    "\n",
    "# Feature selection classes\n",
    "from sklearn.feature_selection import SelectKBest\n",
    "from sklearn.feature_selection import chi2\n",
    "\n",
    "# Classifiers\n",
    "from sklearn.naive_bayes import MultinomialNB\n",
    "from sklearn.svm import LinearSVC\n",
    "\n",
    "# metrics\n",
    "from sklearn import metrics"
   ]
  },
  {
   "cell_type": "code",
   "execution_count": 15,
   "metadata": {},
   "outputs": [
    {
     "name": "stdout",
     "output_type": "stream",
     "text": [
      "                        precision    recall  f1-score   support\n",
      "\n",
      "soc.religion.christian       0.68      0.98      0.80       398\n",
      "    talk.religion.misc       0.90      0.28      0.43       251\n",
      "\n",
      "           avg / total       0.77      0.71      0.66       649\n",
      "\n",
      "Accuracy = 0.7088\n",
      "Avg recall, micro = 0.7088\n",
      "Avg recall, macro = 0.6294\n",
      "Avg precision, macro = 0.7902\n"
     ]
    },
    {
     "ename": "AttributeError",
     "evalue": "'MultinomialNB' object has no attribute 'show_most_informative_features'",
     "output_type": "error",
     "traceback": [
      "\u001b[0;31m---------------------------------------------------------------------------\u001b[0m",
      "\u001b[0;31mAttributeError\u001b[0m                            Traceback (most recent call last)",
      "\u001b[0;32m<ipython-input-15-2e0681bbe9b3>\u001b[0m in \u001b[0;36m<module>\u001b[0;34m()\u001b[0m\n\u001b[1;32m     42\u001b[0m                                                         predicted, average='macro'))  #average across class precision \n\u001b[1;32m     43\u001b[0m \u001b[0;34m\u001b[0m\u001b[0m\n\u001b[0;32m---> 44\u001b[0;31m \u001b[0mclassifier\u001b[0m\u001b[0;34m.\u001b[0m\u001b[0mshow_most_informative_features\u001b[0m\u001b[0;34m(\u001b[0m\u001b[0;36m5\u001b[0m\u001b[0;34m)\u001b[0m\u001b[0;34m\u001b[0m\u001b[0m\n\u001b[0m",
      "\u001b[0;31mAttributeError\u001b[0m: 'MultinomialNB' object has no attribute 'show_most_informative_features'"
     ]
    }
   ],
   "source": [
    "categories = ['talk.religion.misc', 'soc.religion.christian']\n",
    "newsgroups_train = fetch_20newsgroups(subset='train',\n",
    "                                     categories=categories,\n",
    "                                     remove=('headers', 'footers', 'quotes'),\n",
    "                                     shuffle=True, random_state=42)\n",
    "\n",
    "X, Y = newsgroups_train.data, newsgroups_train.target\n",
    "\n",
    "vectorizer = TfidfVectorizer()\n",
    "\n",
    "X_vec = vectorizer.fit_transform(X)   #transform training data\n",
    "\n",
    "fs = SelectKBest(chi2, k=100)    #get top k features \n",
    "X_fs_vec= fs.fit_transform(X_vec, Y)  # fit and transform tdm to reduced feature space\n",
    "\n",
    "newsgroups_test = fetch_20newsgroups(subset='test',     # get test data\n",
    "                                     categories=categories,\n",
    "                                     remove=('headers', 'footers', 'quotes'),\n",
    "                                     shuffle=True,\n",
    "                                     random_state=42)\n",
    "\n",
    "vectors_test = vectorizer.transform(newsgroups_test.data)   #transform test data\n",
    "fs_test = fs.transform(vectors_test)     # transform test data to reduced feature space\n",
    "\n",
    "classifier = MultinomialNB(alpha=.01)\n",
    "classifier.fit(X_fs_vec, Y)\n",
    "predicted = classifier.predict(fs_test)\n",
    "\n",
    "print(metrics.classification_report(newsgroups_test.target, predicted,\n",
    "    target_names=newsgroups_train.target_names))\n",
    "\n",
    "print(\"Accuracy = %6.4f\" % metrics.accuracy_score(newsgroups_test.target, predicted))\n",
    "\n",
    "print(\"Avg recall, micro = %6.4f\" % metrics.recall_score(newsgroups_test.target, \n",
    "                                                         predicted, \n",
    "                                                         average='micro'))  # same as accuracy\n",
    "      \n",
    "print(\"Avg recall, macro = %6.4f\" % metrics.recall_score(newsgroups_test.target, \n",
    "                                                         predicted, average='macro'))  # average of class recall\n",
    "\n",
    "print(\"Avg precision, macro = %6.4f\" % metrics.precision_score(newsgroups_test.target, \n",
    "                                                        predicted, average='macro'))  #average across class precision \n",
    "\n",
    "classifier.show_most_informative_features(5)"
   ]
  }
 ],
 "metadata": {
  "kernelspec": {
   "display_name": "Python 3",
   "language": "python",
   "name": "python3"
  },
  "language_info": {
   "codemirror_mode": {
    "name": "ipython",
    "version": 3
   },
   "file_extension": ".py",
   "mimetype": "text/x-python",
   "name": "python",
   "nbconvert_exporter": "python",
   "pygments_lexer": "ipython3",
   "version": "3.6.3"
  }
 },
 "nbformat": 4,
 "nbformat_minor": 2
}
